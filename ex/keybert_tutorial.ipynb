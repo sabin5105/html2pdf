{
  "cells": [
    {
      "cell_type": "code",
      "execution_count": null,
      "metadata": {
        "id": "7KaQsGuKtZcc"
      },
      "outputs": [],
      "source": [
        "# !pip install -U sentence-transformers keybert"
      ]
    },
    {
      "cell_type": "code",
      "execution_count": 6,
      "metadata": {
        "id": "Wd9zsP5xzsaU"
      },
      "outputs": [],
      "source": [
        "from keybert import KeyBERT\n",
        "from sentence_transformers import SentenceTransformer\n",
        "\n",
        "doc = \"\"\"\n",
        "         Supervised learning is the machine learning task of learning a function that\n",
        "         maps an input to an output based on example input-output pairs. It infers a\n",
        "         function from labeled training data consisting of a set of training examples.\n",
        "         In supervised learning, each example is a pair consisting of an input object\n",
        "         (typically a vector) and a desired output value (also called the supervisory signal).\n",
        "         A supervised learning algorithm analyzes the training data and produces an inferred function,\n",
        "         which can be used for mapping new examples. An optimal scenario will allow for the\n",
        "         algorithm to correctly determine the class labels for unseen instances. This requires\n",
        "         the learning algorithm to generalize from the training data to unseen situations in a\n",
        "         'reasonable' way (see inductive bias).\n",
        "      \"\"\"\n",
        "\n",
        "sentence_model = SentenceTransformer(\"all-mpnet-base-v2\")\n",
        "kw_model = KeyBERT(model=sentence_model)\n",
        "keywords = kw_model.extract_keywords(doc)"
      ]
    },
    {
      "cell_type": "markdown",
      "metadata": {},
      "source": [
        "## Max sum distance vs Maximal Marginal Relevance\n",
        "\n",
        "To diversify the results, after calcuate the keyword score by sbert and cosine similarity, use the filter for diverse the results.\n",
        "\n",
        "### Max sum distance\n",
        "\n",
        "* The max sum distance is a measure of how far apart the words in a document are.\n",
        "* **The higher the max sum distance, the more the words are spread out.**\n",
        "* This is a measure of how much information is contained in a document. \n",
        "* The max sum distance is calculated as follows:\n",
        "\n",
        "$$\\text{max sum distance} = \\sum_{i=1}^{n} \\sum_{j=1}^{n} \\text{distance}(w_i, w_j)$$\n",
        "\n",
        "### Maximal Marginal Relevance\n",
        "\n",
        "* MMR tries to minimize redundancy and maximize the diversity of results in text summarization tasks.\n",
        "* using keyword extraction algorithm called EmbedRank.\n",
        "* the MMR algorithm is as follows:\n",
        "\n",
        "$$\\text{MMR} = \\lambda \\text{score}(w) + (1 - \\lambda) \\text{max}_{w' \\in W} \\text{similarity}(w, w')$$"
      ]
    },
    {
      "cell_type": "code",
      "execution_count": 10,
      "metadata": {
        "colab": {
          "base_uri": "https://localhost:8080/"
        },
        "id": "FSzE6XQX0Z0E",
        "outputId": "7451ac0b-3ced-42ae-ad03-95b7fb8cdf91"
      },
      "outputs": [
        {
          "data": {
            "text/plain": [
              "[('learning example', 0.5468),\n",
              " ('signal supervised', 0.5562),\n",
              " ('learning function', 0.5619),\n",
              " ('machine learning task', 0.5758),\n",
              " ('labeled training data', 0.5767)]"
            ]
          },
          "execution_count": 10,
          "metadata": {},
          "output_type": "execute_result"
        }
      ],
      "source": [
        "# Max sum distance\n",
        "kw_model.extract_keywords(doc, keyphrase_ngram_range=(2, 3), stop_words='english',\n",
        "                              use_maxsum=True, nr_candidates=20, top_n=5)"
      ]
    },
    {
      "cell_type": "code",
      "execution_count": 16,
      "metadata": {
        "colab": {
          "base_uri": "https://localhost:8080/",
          "height": 214
        },
        "id": "i_elVHoC0yhY",
        "outputId": "4d62267b-b0d9-4ffc-bc5f-f95285c6665d"
      },
      "outputs": [
        {
          "data": {
            "text/html": [
              "<pre style=\"white-space:pre;overflow-x:auto;line-height:normal;font-family:Menlo,'DejaVu Sans Mono',consolas,'Courier New',monospace\"><span style=\"color: #000000; text-decoration-color: #000000; background-color: #ffff00\">Supervised learning</span> the machine learning task of <span style=\"color: #000000; text-decoration-color: #000000; background-color: #ffff00\">learning function</span> maps an input to an output based on example \n",
              "input output pairs It infers function from labeled training data consisting of set of training examples In \n",
              "<span style=\"color: #000000; text-decoration-color: #000000; background-color: #ffff00\">supervised learning</span> example is pair consisting of an <span style=\"color: #000000; text-decoration-color: #000000; background-color: #ffff00\">input object</span> vector and desired output value also called the \n",
              "<span style=\"color: #000000; text-decoration-color: #000000; background-color: #ffff00\">supervisory signal</span> learning algorithm analyzes the training data and produces an inferred function which can be \n",
              "used for mapping new examples An optimal scenario will allow for the algorithm to correctly determine the class \n",
              "labels for unseen instances This requires the learning algorithm to generalize from the training data to unseen \n",
              "situations in reasonable way see inductive bias\n",
              "</pre>\n"
            ],
            "text/plain": [
              "\u001b[30;48;2;255;255;0mSupervised learning\u001b[0m the machine learning task of \u001b[30;48;2;255;255;0mlearning function\u001b[0m maps an input to an output based on example \n",
              "input output pairs It infers function from labeled training data consisting of set of training examples In \n",
              "\u001b[30;48;2;255;255;0msupervised learning\u001b[0m example is pair consisting of an \u001b[30;48;2;255;255;0minput object\u001b[0m vector and desired output value also called the \n",
              "\u001b[30;48;2;255;255;0msupervisory signal\u001b[0m learning algorithm analyzes the training data and produces an inferred function which can be \n",
              "used for mapping new examples An optimal scenario will allow for the algorithm to correctly determine the class \n",
              "labels for unseen instances This requires the learning algorithm to generalize from the training data to unseen \n",
              "situations in reasonable way see inductive bias\n"
            ]
          },
          "metadata": {},
          "output_type": "display_data"
        },
        {
          "data": {
            "text/plain": [
              "[('supervised learning', 0.6538),\n",
              " ('learning function', 0.5619),\n",
              " ('function labeled', 0.384),\n",
              " ('supervisory signal', 0.3386),\n",
              " ('input object', 0.2421)]"
            ]
          },
          "execution_count": 16,
          "metadata": {},
          "output_type": "execute_result"
        }
      ],
      "source": [
        "# Maximal Marginal Relevance\n",
        "kw_model.extract_keywords(doc, keyphrase_ngram_range=(2, 2), stop_words='english',\n",
        "                              use_mmr=True, diversity=0.5, highlight=True)"
      ]
    },
    {
      "cell_type": "code",
      "execution_count": 14,
      "metadata": {
        "colab": {
          "base_uri": "https://localhost:8080/"
        },
        "id": "--BZKB9stdCv",
        "outputId": "cffc0d77-c79b-4044-b98c-e6ff48f2a45d"
      },
      "outputs": [
        {
          "name": "stdout",
          "output_type": "stream",
          "text": [
            "Sentence: This framework generates embeddings for each input sentence\n",
            "Embedding: [ 6.41698064e-03  7.04135746e-03 -2.81442106e-02  5.12470901e-02\n",
            " -8.93961638e-03  2.12669447e-02  2.30778884e-02 -1.44860223e-02\n",
            " -5.55316685e-03 -2.49297079e-02  4.53493297e-02  2.48958822e-02\n",
            " -3.07578966e-02  5.66224083e-02  6.32021800e-02 -5.62527888e-02\n",
            "  5.16509824e-02  5.78279095e-03 -2.62116212e-02  1.31874217e-03\n",
            "  1.99272223e-02 -1.30594836e-03 -2.28708331e-03  4.72541526e-02\n",
            " -3.72494906e-02 -2.85245217e-02 -4.10240963e-02 -1.57976002e-02\n",
            "  3.17328074e-03 -8.74146994e-04 -2.96459924e-02  3.21501493e-02\n",
            "  3.51344012e-02  1.09738093e-02  9.16706938e-07 -1.18587702e-03\n",
            " -2.53640637e-02 -7.92881101e-03 -5.09481831e-03  7.40649505e-03\n",
            "  2.80068330e-02  1.06995171e-02  1.07513331e-02  2.76827589e-02\n",
            " -5.19132540e-02 -4.98179495e-02  5.34075089e-02  5.79067133e-02\n",
            "  7.86073431e-02  7.73014352e-02 -1.01112248e-02 -6.35446236e-02\n",
            " -1.71579625e-02 -6.77371165e-03 -2.45815422e-03  2.61346288e-02\n",
            " -5.38507756e-03 -3.02864648e-02 -5.63439354e-03  4.58640642e-02\n",
            " -2.68843137e-02  2.74685510e-02  3.91978174e-02 -3.18273343e-02\n",
            "  8.26835260e-02  2.12056991e-02 -4.40437272e-02 -2.98988800e-02\n",
            "  7.70699093e-03  6.86297417e-02  1.44402385e-02 -3.01910490e-02\n",
            " -1.64612848e-02  3.11809331e-02  8.09838902e-03  3.58024961e-03\n",
            " -4.70634326e-02 -2.10271850e-02  1.42963165e-02  1.19080422e-02\n",
            "  1.90832559e-02  9.07771476e-03  6.29301509e-03 -5.21352105e-02\n",
            "  5.82425855e-03 -1.30265914e-02  2.76840273e-02 -5.94239384e-02\n",
            " -2.88033467e-02  3.62124993e-03  8.50868039e-03 -3.12915854e-02\n",
            "  3.52794863e-02 -1.59081556e-02  3.41071817e-03  1.37690059e-03\n",
            " -4.43796962e-02 -6.59825606e-03  3.06716040e-02 -5.10957874e-02\n",
            "  6.18541203e-02  2.94591556e-03  2.60525686e-03  1.05567621e-02\n",
            " -7.16265291e-02  2.71185786e-02 -4.29248288e-02 -4.26456928e-02\n",
            " -4.15476896e-02  1.81149710e-02 -7.36342818e-02 -4.94631715e-02\n",
            " -3.23849469e-02  7.84957930e-02 -2.37673726e-02 -7.32178986e-02\n",
            " -5.06818444e-02  8.06004032e-02 -6.09400216e-03  6.69156238e-02\n",
            " -4.28587236e-02  2.68699378e-02 -1.84525400e-02  6.06536940e-02\n",
            " -3.70910438e-03  1.52205816e-03 -5.02157249e-02 -8.87506828e-03\n",
            " -1.24245510e-02  6.24104636e-04 -1.16251651e-02  4.58007045e-02\n",
            "  3.75254452e-02  4.03043581e-03 -4.35200706e-02  1.75124779e-02\n",
            "  1.32408394e-02 -2.28145532e-02 -8.02267157e-03 -5.61970361e-02\n",
            " -1.01130176e-02 -7.29760295e-03  5.26117720e-03 -8.87145400e-02\n",
            "  2.16131769e-02 -6.66865241e-03 -1.28023261e-02 -3.57153676e-02\n",
            "  4.71408525e-03  2.13407762e-02 -4.96312454e-02  9.02341083e-02\n",
            "  2.03769356e-02 -2.31713392e-02 -1.96790863e-02 -1.44325839e-02\n",
            "  1.02921613e-01  8.89233351e-02  5.27450629e-03  9.70359426e-03\n",
            "  4.11492065e-02 -6.55843969e-03 -6.27830811e-03  2.41488144e-02\n",
            " -1.03434352e-02  5.20537701e-03 -4.53551151e-02  1.59993605e-03\n",
            "  3.27850040e-03  6.94541186e-02 -9.87482723e-03  5.49498126e-02\n",
            " -2.02105138e-02  2.78422274e-02  2.12050676e-02  1.07579820e-01\n",
            "  7.60867149e-02  3.76388095e-02  1.01324588e-01 -1.02055958e-02\n",
            " -4.14168136e-03  6.43591732e-02 -1.07325036e-02  8.40777904e-03\n",
            " -3.40151377e-02  3.45292315e-02 -1.95394903e-02  2.15076879e-02\n",
            " -3.36658470e-02 -8.79274402e-03  7.62209995e-04 -1.54893026e-02\n",
            " -2.88811978e-02 -4.56917174e-02  7.86759332e-03  3.51818725e-02\n",
            " -3.35019566e-02  2.04441529e-02 -5.70743484e-03 -6.81267455e-02\n",
            "  4.37121559e-03  2.28663217e-02  2.56283507e-02  6.92784265e-02\n",
            "  3.03287078e-02 -5.21106122e-04  2.20228583e-02 -2.73273047e-02\n",
            "  2.42916262e-03  9.56366360e-02  3.08081880e-02 -2.54704468e-02\n",
            " -4.71231434e-03 -1.98133346e-02 -2.86961813e-03 -1.56978015e-02\n",
            "  2.37710420e-02  1.49507789e-04 -4.94598299e-02 -1.48516800e-02\n",
            "  3.09591684e-02  1.81040000e-02  2.04850510e-02  2.96537708e-02\n",
            " -2.44688597e-02 -1.41848819e-02 -2.05796678e-02  4.75794971e-02\n",
            "  2.37392113e-02  6.12101629e-02 -2.96607614e-02  4.20041569e-02\n",
            "  7.00785890e-02 -6.36391565e-02 -4.48953845e-02  1.58781484e-02\n",
            " -3.16048525e-02 -8.39620382e-02  3.14817876e-02 -7.09298477e-02\n",
            "  1.65797547e-02 -3.32397297e-02 -1.99012645e-02 -3.34466211e-02\n",
            "  1.65270232e-02 -2.66103949e-02  7.67157525e-02 -5.35010733e-02\n",
            " -2.69833915e-02  1.39351776e-02  7.87297636e-03 -9.71414987e-03\n",
            "  3.19549665e-02 -1.64783804e-03  3.75487134e-02 -4.48501669e-02\n",
            "  6.91117253e-04  2.20488152e-03 -1.18980641e-02 -2.00990885e-02\n",
            "  1.35752698e-02 -1.81182299e-03  2.53362041e-02 -7.78500922e-03\n",
            "  1.48007935e-02 -2.23014466e-02 -4.21123281e-02 -8.39446038e-02\n",
            " -3.99611983e-03  1.45149035e-02 -5.29471366e-03  3.26592848e-02\n",
            "  2.90006381e-02  1.93269178e-02  5.35387918e-03 -3.20667326e-02\n",
            " -1.11237913e-02 -1.82027579e-03  2.20484547e-02  2.45393775e-02\n",
            " -2.42675021e-02 -4.94059287e-02 -3.25549357e-02 -8.24747328e-03\n",
            " -3.81640159e-02  8.67831558e-02 -1.43712768e-02 -7.57539971e-03\n",
            " -4.61041853e-02 -7.13570230e-03 -1.98172871e-02  3.45725045e-02\n",
            "  4.21201922e-02 -7.75575787e-02  1.65425800e-02 -2.11532433e-02\n",
            "  2.92320009e-02  7.49931708e-02 -6.12302497e-03  9.23037753e-02\n",
            "  3.28120869e-03 -4.31906170e-04 -2.69027557e-02  3.81081738e-03\n",
            " -5.72696887e-02  6.10329732e-02 -4.20385748e-02 -1.28194848e-02\n",
            " -1.64597146e-02  3.89639586e-02  3.38857584e-02 -1.29124736e-02\n",
            " -5.99167533e-02  3.69914025e-02 -1.05653508e-02 -2.78332224e-03\n",
            " -3.82605307e-02 -1.68738831e-02 -4.20038775e-02  8.18151049e-03\n",
            "  3.47394496e-03 -1.30358394e-02  6.39855489e-02 -5.35041355e-02\n",
            " -2.36123633e-02 -7.90192559e-03 -2.56626494e-02 -2.05603335e-02\n",
            "  3.95416319e-02  1.84744187e-02  1.42806880e-02  1.49977743e-03\n",
            " -3.45471650e-02 -2.78152842e-02  3.63286249e-02  2.43525952e-02\n",
            " -1.65025350e-02  3.10249254e-02  2.43953634e-02 -3.26688774e-02\n",
            "  1.60808545e-02 -1.70304310e-02 -4.18681130e-02 -5.80606759e-02\n",
            "  1.02255456e-02  3.36269587e-02 -3.07427775e-02  3.92517028e-03\n",
            " -2.11430844e-02 -6.50460925e-03 -6.77680422e-04  5.58881293e-05\n",
            " -3.52609791e-02 -7.88874459e-03 -5.60252964e-02  7.79301450e-02\n",
            "  9.90165956e-03 -2.20562462e-02 -2.27742363e-02 -1.00405626e-02\n",
            "  7.12667033e-02  3.01040336e-02  1.80725437e-02  2.30155271e-02\n",
            " -4.74132374e-02  1.45924967e-02  1.88452192e-03 -2.57458072e-02\n",
            " -1.04116984e-02 -4.92472760e-03  1.24066314e-02  5.75676095e-04\n",
            " -2.19971035e-02  9.67746750e-02  4.39282358e-02 -2.06325911e-02\n",
            "  2.35887747e-02 -7.72534031e-03  6.76510409e-02  3.70108299e-02\n",
            "  3.15340646e-02 -9.33435112e-02 -2.99224950e-04  7.29606766e-03\n",
            "  6.59358874e-03  1.11741265e-02 -7.34788226e-03  8.94354936e-03\n",
            " -9.72829387e-02  1.20213926e-02  1.31007237e-02 -2.77548772e-03\n",
            " -1.89688243e-02 -1.18119633e-02 -2.61237044e-02  4.67146263e-02\n",
            " -2.50330046e-02  1.74055360e-02 -1.34659335e-02  1.98834613e-02\n",
            "  2.41210274e-02 -1.37924282e-02 -2.28235926e-02 -5.92575744e-02\n",
            " -4.22597416e-02  5.39363548e-02  4.59281020e-02  4.77609411e-02\n",
            " -3.87458014e-03  7.82491919e-03 -4.87052128e-02 -6.06900826e-02\n",
            " -3.68699245e-02 -2.95444559e-02  5.56639545e-02 -4.11035456e-02\n",
            " -7.84813054e-03  3.18656024e-03  5.65429553e-02 -1.77579615e-02\n",
            "  2.10385695e-02  1.46915177e-02  8.66517350e-02 -2.03601848e-02\n",
            "  1.96628682e-02 -4.17746231e-02  1.97372623e-02 -4.32080682e-03\n",
            "  5.06878719e-02  7.69115686e-02 -2.17285510e-02 -1.62931788e-03\n",
            " -5.11758365e-02  2.95549911e-03 -4.08026688e-02 -4.08524573e-02\n",
            " -5.51878242e-03 -7.86761474e-03 -2.82012299e-03 -8.51273164e-02\n",
            " -3.69595140e-02  2.77199782e-02  3.87710705e-02  4.66377521e-03\n",
            "  1.54982200e-02 -9.06014908e-03 -4.61105667e-02 -6.70024082e-02\n",
            "  7.27882842e-03  3.54167484e-02  2.58426275e-02  1.28905419e-02\n",
            "  1.19653228e-03  3.71991433e-02  9.43435170e-03 -4.12478186e-02\n",
            " -4.48006429e-02 -1.18628172e-02 -6.31364733e-02  1.55602023e-02\n",
            "  4.68352288e-02  2.89432928e-02  2.06022710e-02 -3.09580043e-02\n",
            "  5.43942489e-03  6.53906167e-02  2.44627316e-02 -7.76914731e-02\n",
            "  2.12308997e-03  4.69564684e-02 -4.16078009e-02  3.82884741e-02\n",
            "  5.16065247e-02 -7.31321471e-03  1.03436802e-02 -6.20506937e-03\n",
            "  1.71027929e-02  2.33106054e-02 -5.18275984e-02  1.96031593e-02\n",
            " -3.44415903e-02  2.14587133e-02  1.03705190e-02  1.89372171e-02\n",
            " -2.01521702e-02  2.66941469e-02 -5.85122667e-02 -3.60222124e-02\n",
            " -5.43661006e-02  2.27562059e-02  8.05397891e-03  6.09846320e-03\n",
            "  1.32435961e-02  3.12848412e-03 -1.76115446e-02  7.95497149e-02\n",
            "  2.40743309e-02  3.07759196e-02  6.15018122e-02 -2.34846435e-02\n",
            " -9.67788603e-03  2.06697490e-02 -1.76969878e-02  4.11882269e-04\n",
            " -3.71209309e-02 -3.11212731e-03 -6.05582297e-02  1.76781677e-02\n",
            "  1.69753935e-02  1.91075280e-02 -6.48247749e-02  2.80686207e-02\n",
            " -4.62334119e-02  4.54055890e-03 -1.78999193e-02  2.77618766e-02\n",
            "  3.43549140e-02 -2.79430114e-02  3.68391313e-02 -6.13426184e-03\n",
            " -2.01441068e-02  2.57544369e-02  5.44883274e-02 -4.47713360e-02\n",
            " -1.21580195e-02  5.61420573e-03  2.81976815e-02 -4.43425924e-02\n",
            " -3.26386094e-02  6.43764362e-02 -3.08168512e-02  2.86518801e-02\n",
            "  1.69444701e-03 -2.17641853e-02 -7.53205717e-02 -5.33468416e-03\n",
            "  5.56056127e-02  6.11955374e-02 -2.43833289e-02 -1.43157865e-03\n",
            " -3.80719826e-02 -7.12243170e-02  2.34006662e-02  4.46415246e-02\n",
            " -1.51499603e-02  2.64473632e-02  1.70446970e-02  3.93737294e-02\n",
            "  3.69204059e-02 -2.77438555e-02 -2.60083769e-02  3.68923247e-02\n",
            " -2.80266609e-02 -5.52940704e-02  1.79481171e-02 -4.59905773e-33\n",
            " -6.31388947e-02 -2.22855005e-02 -3.24463286e-02 -5.01775648e-03\n",
            " -3.44864093e-02  5.87074691e-03  3.49894259e-03  3.06338500e-02\n",
            "  2.37982292e-02  1.92517135e-02 -1.09090917e-02  4.10458632e-03\n",
            "  1.62912495e-02  3.08945198e-02  1.09253554e-02  2.39037350e-02\n",
            "  2.42872536e-02 -3.26095112e-02  7.05665676e-03  1.45230386e-02\n",
            "  5.29794358e-02  3.73013280e-02  5.69098480e-02  1.96800157e-02\n",
            " -9.90088843e-03  5.64798154e-03  6.99445896e-04  3.00178472e-02\n",
            "  2.42235120e-02  6.93784356e-02 -4.34594005e-02  4.81653474e-02\n",
            " -2.08595232e-03 -3.23599810e-03 -2.09315941e-02  8.69450420e-02\n",
            " -7.62061700e-02 -5.23092039e-02  2.25119609e-02 -1.94335394e-02\n",
            " -5.76018021e-02 -3.52060236e-02  3.74212377e-02 -4.36676182e-02\n",
            "  1.41793275e-02  1.65746678e-02  4.51573096e-02 -2.97015142e-02\n",
            " -1.70537140e-02  1.20773446e-02 -6.32332489e-02 -3.17597901e-03\n",
            " -2.12442242e-02  5.32234833e-02  3.78544405e-02  1.58727933e-02\n",
            "  2.59173587e-02 -1.57449450e-02  4.11624229e-03 -3.75524047e-04\n",
            " -5.40382601e-02  4.11760323e-02 -2.11158898e-02 -3.92106399e-02\n",
            "  9.94318398e-04  5.64684309e-02  1.95728205e-02 -6.00314066e-02\n",
            " -4.19071242e-02  1.03562381e-02  2.47723218e-02  2.93875970e-02\n",
            "  4.00907211e-02  6.82717860e-02 -4.06708829e-02  2.08517318e-04\n",
            " -3.05602252e-02 -6.53994223e-03  4.40988652e-02  1.99631155e-02\n",
            "  3.14919613e-02 -3.02635413e-03 -1.98607636e-03 -1.00525487e-02\n",
            " -5.34319244e-02 -3.25817950e-02 -1.51958205e-02 -7.04545975e-02\n",
            "  1.96440443e-02 -1.16721420e-02 -4.01738137e-02 -2.91676819e-02\n",
            "  2.25233324e-02 -4.34782468e-02  4.73222183e-03  2.61908490e-02\n",
            " -2.98197288e-02  2.32618228e-02  9.60757490e-03  3.06101777e-02\n",
            " -1.43236872e-02 -3.19095217e-02 -9.97751392e-03 -2.03971714e-02\n",
            "  2.98897196e-02 -8.46012030e-04  4.95938845e-02 -1.10618472e-04\n",
            " -7.69848451e-02 -4.21768613e-03 -2.32150611e-02 -4.06624191e-02\n",
            " -3.54634859e-02  1.27299968e-02  1.89666059e-02  1.09927217e-02\n",
            " -1.24232220e-02 -1.40883876e-02  2.29305141e-02  2.58974861e-02\n",
            " -5.29895090e-02 -2.76448317e-02  4.67798039e-02  5.91515750e-02\n",
            " -4.88726757e-02 -1.27539234e-02 -5.72073199e-02  5.08626662e-02\n",
            "  6.74192756e-02 -4.43158522e-02  1.20804962e-02  1.60758067e-02\n",
            "  1.62246266e-07  3.45283002e-02  4.07025516e-02  3.45724151e-02\n",
            "  1.05448682e-02  3.24380882e-02  3.92641686e-03 -7.23921112e-04\n",
            "  2.39723884e-02 -1.04169846e-02  1.82743743e-03  7.71945063e-03\n",
            " -1.08964099e-02  2.32274290e-02  1.16044898e-02 -1.13505453e-01\n",
            "  1.08006280e-02 -4.70035672e-02 -1.53755036e-03 -6.52014762e-02\n",
            " -3.10371607e-03  6.30151853e-02  1.03334725e-01  6.32266775e-02\n",
            "  2.26646606e-02 -1.45198982e-02 -2.21977178e-02  2.79149022e-02\n",
            "  3.08718234e-02 -2.99676409e-04 -2.72435173e-02 -1.25005562e-02\n",
            " -7.97823165e-03  1.33635662e-02  9.22471564e-03  5.20151993e-03\n",
            "  2.69579478e-02  1.45485830e-02  3.92101258e-02 -1.28285214e-02\n",
            "  8.34914949e-03 -1.92547161e-02 -3.92372943e-02 -2.62914002e-02\n",
            " -6.25081882e-02  5.52955642e-02 -4.34487909e-02 -1.79744773e-02\n",
            " -3.79047059e-02 -2.31504608e-02 -5.24944300e-03  1.61760747e-02\n",
            "  2.21974798e-03 -2.30074674e-02  1.88630484e-02  3.54718603e-02\n",
            " -2.21172385e-02  2.63873655e-02 -6.48612604e-02 -1.45319644e-02\n",
            "  1.08548636e-02 -6.36222139e-02 -3.26211154e-02 -3.85186612e-03\n",
            "  7.41794799e-03  5.09066172e-02 -3.74566540e-02 -2.55091731e-02\n",
            "  1.84345306e-34  1.46027626e-02  2.09197663e-02  5.87049350e-02\n",
            "  4.67071906e-02  8.93447082e-03 -3.89709286e-02 -5.72202960e-03\n",
            "  3.75255069e-04  4.23194356e-02 -9.05734897e-02 -5.94083853e-02]\n",
            "\n"
          ]
        }
      ],
      "source": [
        "from sentence_transformers import SentenceTransformer\n",
        "model = SentenceTransformer('all-mpnet-base-v2')\n",
        "\n",
        "#Our sentences we like to encode\n",
        "sentences = ['This framework generates embeddings for each input sentence']\n",
        "\n",
        "#Sentences are encoded by calling model.encode()\n",
        "embeddings = model.encode(sentences)\n",
        "\n",
        "#Print the embeddings\n",
        "for sentence, embedding in zip(sentences, embeddings):\n",
        "    print(\"Sentence:\", sentence)\n",
        "    print(\"Embedding:\", embedding)\n",
        "    print(\"\")"
      ]
    },
    {
      "cell_type": "code",
      "execution_count": null,
      "metadata": {
        "id": "gy0-MbY7tsP3"
      },
      "outputs": [],
      "source": []
    }
  ],
  "metadata": {
    "accelerator": "GPU",
    "colab": {
      "provenance": []
    },
    "gpuClass": "standard",
    "kernelspec": {
      "display_name": "Python 3.9.16 ('ML')",
      "language": "python",
      "name": "python3"
    },
    "language_info": {
      "name": "python",
      "version": "3.9.16"
    },
    "vscode": {
      "interpreter": {
        "hash": "19d29624fa02f72a2f2eb64b5fa4dfbc751609e2b6c88be691c0db207c64cc14"
      }
    }
  },
  "nbformat": 4,
  "nbformat_minor": 0
}
